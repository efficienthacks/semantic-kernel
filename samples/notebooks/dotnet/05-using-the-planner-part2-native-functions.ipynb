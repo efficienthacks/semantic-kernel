{
 "cells": [
  {
   "attachments": {},
   "cell_type": "markdown",
   "metadata": {},
   "source": [
    "# Planner with Native Functions\n",
    "\n",
    "This is a continuation of the [Planner Notebook](./05-using-the-planner.ipynb), which made use of Semantic Functions. Here we are exclusively using Native Functions.   A Planner can use both Semantic and Native Functions, however when using Native Functions exclusively, we are only using OpenAI services to generate the plan, and after the plan is generated, we can save it to disk, and run it as many times as we want without calling any more OpenAI endpoints.\n",
    "\n",
    "This notebook has been verified to work with Chat Completion Service using gpt-35-turbo.\n",
    "\n",
    "Read more about Native Functions for C# [here](https://learn.microsoft.com/en-us/semantic-kernel/ai-orchestration/native-functions?tabs=Csharp)."
   ]
  },
  {
   "cell_type": "code",
   "execution_count": null,
   "metadata": {
    "dotnet_interactive": {
     "language": "csharp"
    },
    "polyglot_notebook": {
     "kernelName": "csharp"
    }
   },
   "outputs": [],
   "source": [
    "#r \"nuget:Microsoft.SemanticKernel,0.17.230718.1-preview\"\n",
    "\n",
    "#!import config/Settings.cs\n",
    "#!import config/Utils.cs\n",
    "\n",
    "using Microsoft.SemanticKernel;\n",
    "using Microsoft.SemanticKernel.Skills.Core;\n",
    "using Microsoft.SemanticKernel.Orchestration;\n",
    "using Microsoft.SemanticKernel.Planning;\n",
    "using Microsoft.SemanticKernel.Planning.Sequential;\n",
    "using System.ComponentModel;\n",
    "using System.Text.Json;\n",
    "using Microsoft.SemanticKernel.SkillDefinition;\n",
    "\n",
    "var builder = new KernelBuilder();\n",
    "\n",
    "// Configure AI backend used by the kernel\n",
    "var (useAzureOpenAI, model, azureEndpoint, apiKey, orgId) = Settings.LoadFromFile();\n",
    "\n",
    "if (useAzureOpenAI)\n",
    "    builder.WithAzureChatCompletionService(model, azureEndpoint, apiKey);\n",
    "else\n",
    "    builder.WithOpenAIChatCompletionService(model, apiKey, orgId);\n",
    "\n",
    "var kernel = builder.Build();"
   ]
  },
  {
   "attachments": {},
   "cell_type": "markdown",
   "metadata": {},
   "source": [
    "### Creating the Plugin with Native Functions\n",
    "\n",
    "In our example scenario, we want to answer \"What documents were opened by the direct reports of the alias 'foo'?\".  We are simply hardcoding a couple of `Dictionary`s that contain this information.\n",
    "\n",
    "We will have an `SKFunction` called `GetReportsOfAlias` that takes the manager's alias and returns `IEnumerable<Employee>` - the idea is to have the planner invoke this one first as it takes in a simple string.\n",
    "\n",
    "We will have a second `SKFunction` called `GetDocumentsOpenedBy` that takes `IEnumerable<Employee>` and returns a `Dictionary<string,List<Document>>` (mapping of employee alias to documents they've opened).\n",
    "\n",
    "At the time of writing, Semantic Kernel doesn't support return types and input types that are `IEnumerable<...>`, so for now, we will manually call `JsonSerializer` to perform deserialization (of the input values) and serialization (of the return value.)"
   ]
  },
  {
   "cell_type": "code",
   "execution_count": null,
   "metadata": {
    "dotnet_interactive": {
     "language": "csharp"
    },
    "polyglot_notebook": {
     "kernelName": "csharp"
    }
   },
   "outputs": [],
   "source": [
    "\n",
    "public class Employee\n",
    "{\n",
    "    public string Alias { get; set; }\n",
    "}\n",
    "public class Document\n",
    "{\n",
    "    public string Content { get; set; }\n",
    "}\n",
    "\n",
    "public static Dictionary<string, List<Employee>> _reports = new (){\n",
    "  { \"foo\" , \n",
    "  new List<Employee>(){\n",
    "      new Employee{Alias=\"report1\"}, \n",
    "      new Employee{Alias=\"report3\"}}\n",
    "  },\n",
    "    { \"bar\" , \n",
    "  new List<Employee>(){\n",
    "      new Employee{Alias=\"report2\"}, \n",
    "      new Employee{Alias=\"report4\"}}\n",
    "  }\n",
    "};\n",
    "\n",
    "public static Dictionary<string, List<Document>> _openedDocuments = new(){\n",
    "  { \"report1\" ,\n",
    "  new List<Document>(){\n",
    "      new Document{Content=\"report1 - first document\"},\n",
    "      new Document{Content=\"report1 - second document\"}}\n",
    "  },\n",
    "  { \"report2\" ,\n",
    "  new List<Document>(){\n",
    "      new Document{Content=\"report2 - first document\"},\n",
    "      new Document{Content=\"report2 - second document\"}}\n",
    "  },\n",
    "  { \"report3\" ,\n",
    "  new List<Document>(){\n",
    "      new Document{Content=\"report3 - first document\"},\n",
    "      new Document{Content=\"report3 - second document\"}}\n",
    "  },\n",
    "  { \"report4\" ,\n",
    "  new List<Document>(){\n",
    "      new Document{Content=\"report4 - first document\"}}\n",
    "  }\n",
    "};\n",
    "\n",
    "public class ReportsAndDocsPlugin{\n",
    "    [SKFunction]\n",
    "    public string GetReportsOfAlias([Description(\"The aliases to get direct reports of\"), SKName(\"input\")] string alias)\n",
    "    {\n",
    "        Console.WriteLine($\"GetReportsOfAlias called with input: {alias}\");\n",
    "        //For now, we will have to serialize the return value\n",
    "        return JsonSerializer.Serialize(_reports[alias]);\n",
    "    }\n",
    "\n",
    "    [SKFunction]\n",
    "    public string GetDocumentsOpenedBy([Description(\"The documents opened by the given aliases\"), SKName(\"input\")] string employees)\n",
    "    {\n",
    "        //For now, we will have to deserialize the input parameter\n",
    "        var reportsAsList = JsonSerializer.Deserialize<List<Employee>>(employees);\n",
    "        \n",
    "        var usersToOpenedDocs = new Dictionary<string, IEnumerable<Document>>();\n",
    "        foreach(var r in reportsAsList){\n",
    "            usersToOpenedDocs[r.Alias] = _openedDocuments[r.Alias];\n",
    "        }\n",
    "        \n",
    "        return JsonSerializer.Serialize(usersToOpenedDocs);\n",
    "    }\n",
    "}"
   ]
  },
  {
   "cell_type": "markdown",
   "metadata": {},
   "source": [
    "### Import the Plugin and Create the Planner"
   ]
  },
  {
   "cell_type": "code",
   "execution_count": null,
   "metadata": {
    "dotnet_interactive": {
     "language": "csharp"
    },
    "polyglot_notebook": {
     "kernelName": "csharp"
    }
   },
   "outputs": [],
   "source": [
    "kernel.ImportSkill(new ReportsAndDocsPlugin(), \"ReportsAndDocsPlugin\");\n",
    "\n",
    "var planner = new SequentialPlanner(kernel);"
   ]
  },
  {
   "attachments": {},
   "cell_type": "markdown",
   "metadata": {},
   "source": [
    "### Saving the plan\n",
    "\n",
    "Now, let's provide the ask, then save the plan.  Alternatively, you can directly run the plan, but if you want to modify it first, you'll need to save it to disk, then load it up later."
   ]
  },
  {
   "cell_type": "code",
   "execution_count": null,
   "metadata": {
    "dotnet_interactive": {
     "language": "csharp"
    },
    "polyglot_notebook": {
     "kernelName": "csharp"
    }
   },
   "outputs": [],
   "source": [
    "var ask = \"What documents were opened by the direct reports of the alias 'foo'?\";\n",
    "\n",
    "var planFile = @\".\\planAsJson.json\";\n",
    "Plan plan = await planner.CreatePlanAsync(ask);\n",
    "var planAsJson = JsonSerializer.Serialize(plan, new JsonSerializerOptions { WriteIndented = true });\n",
    "\n",
    "//Console.WriteLine(planAsJson);\n",
    "\n",
    "File.WriteAllText(planFile, planAsJson);"
   ]
  },
  {
   "cell_type": "markdown",
   "metadata": {},
   "source": [
    "### Loading and Executing the plan\n",
    "\n",
    "Here's how you'd load the plan from disk and execute it.  \n",
    "\n",
    "Now try this again, but go offline first, you'll notice that your plan still executes!  Neat!"
   ]
  },
  {
   "cell_type": "code",
   "execution_count": null,
   "metadata": {
    "dotnet_interactive": {
     "language": "csharp"
    },
    "polyglot_notebook": {
     "kernelName": "csharp"
    }
   },
   "outputs": [],
   "source": [
    "Plan plan = Plan.FromJson(File.ReadAllText(planFile), kernel.CreateNewContext());\n",
    "\n",
    "var result = await plan.InvokeAsync();\n",
    "\n",
    "Console.WriteLine(\"Plan results:\");\n",
    "Console.WriteLine(result.Result.Trim());"
   ]
  },
  {
   "cell_type": "markdown",
   "metadata": {},
   "source": [
    "### Exercise\n",
    "\n",
    "Now, go back a few cells and change the ask to:\n",
    "\n",
    "```\n",
    "var ask = \"What documents were opened by the direct reports of the aliases 'foo' and 'bar'?\";\n",
    "```\n",
    "\n",
    "Why did it break? and how would you fix it?"
   ]
  }
 ],
 "metadata": {
  "kernelspec": {
   "display_name": ".NET (C#)",
   "language": "C#",
   "name": ".net-csharp"
  },
  "language_info": {
   "name": "polyglot-notebook"
  },
  "polyglot_notebook": {
   "kernelInfo": {
    "defaultKernelName": "csharp",
    "items": [
     {
      "aliases": [],
      "name": "csharp"
     }
    ]
   }
  }
 },
 "nbformat": 4,
 "nbformat_minor": 2
}
